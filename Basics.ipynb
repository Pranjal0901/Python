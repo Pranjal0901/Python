{
 "cells": [
  {
   "cell_type": "code",
   "execution_count": 1,
   "metadata": {},
   "outputs": [
    {
     "name": "stdout",
     "output_type": "stream",
     "text": [
      "Pranjal\n",
      "Singh\n"
     ]
    }
   ],
   "source": [
    "### Case Sensitive \n",
    "\n",
    "name= \"Pranjal\"\n",
    "Name= \"Singh\"\n",
    "\n",
    "print(name)\n",
    "print(Name)"
   ]
  },
  {
   "cell_type": "code",
   "execution_count": 2,
   "metadata": {},
   "outputs": [
    {
     "name": "stdout",
     "output_type": "stream",
     "text": [
      "20\n",
      "20\n"
     ]
    }
   ],
   "source": [
    "## Indentation\n",
    "## In Python it is used to define the hierarchy and structure of the code.\n",
    "age =20\n",
    "if age==20:\n",
    "    print(age)\n",
    "\n",
    "print(age)"
   ]
  },
  {
   "cell_type": "code",
   "execution_count": 3,
   "metadata": {},
   "outputs": [
    {
     "data": {
      "text/plain": [
       "' \\nThis is \\na\\nmultiline \\ncomment\\n'"
      ]
     },
     "execution_count": 3,
     "metadata": {},
     "output_type": "execute_result"
    }
   ],
   "source": [
    "# This is a single line comment.\n",
    "''' \n",
    "This is \n",
    "a\n",
    "multiline \n",
    "comment\n",
    "'''"
   ]
  },
  {
   "cell_type": "code",
   "execution_count": null,
   "metadata": {},
   "outputs": [
    {
     "name": "stdout",
     "output_type": "stream",
     "text": [
      "302\n"
     ]
    }
   ],
   "source": [
    "#Line Continuation(\\)\n",
    "# Use a backslash(\\) to continue a statement to the next line\n",
    "Sum= 23+34+45+3+44+23+\\\n",
    "32+98\n",
    "\n",
    "print(Sum)"
   ]
  },
  {
   "cell_type": "code",
   "execution_count": 5,
   "metadata": {},
   "outputs": [
    {
     "name": "stdout",
     "output_type": "stream",
     "text": [
      "PranjalSingh\n"
     ]
    }
   ],
   "source": [
    "#Multiple statements on line\n",
    "a=\"Pranjal\";b=\"Singh\";c=a+b; \n",
    "print(c)"
   ]
  },
  {
   "cell_type": "code",
   "execution_count": 6,
   "metadata": {},
   "outputs": [
    {
     "data": {
      "text/plain": [
       "int"
      ]
     },
     "execution_count": 6,
     "metadata": {},
     "output_type": "execute_result"
    }
   ],
   "source": [
    "## Understanding semantics in python\n",
    "\n",
    "name = \"Pranjal\" # Python automatically understands that this var is a string datatype in runtime\n",
    "age= 20\n",
    "type(age)"
   ]
  },
  {
   "cell_type": "code",
   "execution_count": 7,
   "metadata": {},
   "outputs": [
    {
     "name": "stdout",
     "output_type": "stream",
     "text": [
      "<class 'str'>\n",
      "<class 'float'>\n"
     ]
    }
   ],
   "source": [
    "# Type Inference\n",
    "\n",
    "var=\"Apple\"\n",
    "print(type(var))\n",
    "var= 3.14\n",
    "print(type(var))"
   ]
  },
  {
   "cell_type": "code",
   "execution_count": null,
   "metadata": {},
   "outputs": [
    {
     "name": "stdout",
     "output_type": "stream",
     "text": [
      "This is correct\n",
      "This will outside of the false loop\n",
      "Outside the loop\n"
     ]
    }
   ],
   "source": [
    "# Code example of Indentation\n",
    "if True:\n",
    "    print(\"This is correct\")\n",
    "    if False:\n",
    "        print(\"This will print\")\n",
    "    print(\"This will outside of the false loop\")\n",
    "print(\"Outside the loop\")"
   ]
  }
 ],
 "metadata": {
  "kernelspec": {
   "display_name": "Python 3",
   "language": "python",
   "name": "python3"
  },
  "language_info": {
   "codemirror_mode": {
    "name": "ipython",
    "version": 3
   },
   "file_extension": ".py",
   "mimetype": "text/x-python",
   "name": "python",
   "nbconvert_exporter": "python",
   "pygments_lexer": "ipython3",
   "version": "3.10.15"
  }
 },
 "nbformat": 4,
 "nbformat_minor": 2
}
