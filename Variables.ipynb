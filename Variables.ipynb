{
 "cells": [
  {
   "cell_type": "markdown",
   "metadata": {},
   "source": [
    "# Variables"
   ]
  },
  {
   "cell_type": "markdown",
   "metadata": {},
   "source": [
    "### Variables are containers for storing data values.\n",
    "A Python variable is a reserved memory location to store values. In other words, a variable in a python program gives data to the computer for processing. Every value in Python has a datatype. Different data types in Python are Numbers, List, Tuple, Strings, Dictionary, etc."
   ]
  },
  {
   "cell_type": "code",
   "execution_count": 4,
   "metadata": {},
   "outputs": [],
   "source": [
    "a=100  # It has int data type \n"
   ]
  },
  {
   "cell_type": "code",
   "execution_count": 5,
   "metadata": {},
   "outputs": [
    {
     "name": "stdout",
     "output_type": "stream",
     "text": [
      "Age: 20\n",
      "Name: Pranjal\n",
      "Height: 6.2\n"
     ]
    }
   ],
   "source": [
    "# these all are different variable having differnet datatypes. \n",
    "name= \"Pranjal\"  \n",
    "age = 20\n",
    "height= 6.2\n",
    "is_student= True\n",
    "\n",
    "# print the varibales\n",
    "\n",
    "print(\"Age:\", age)\n",
    "print(\"Name:\", name)\n",
    "print(\"Height:\", height)"
   ]
  },
  {
   "cell_type": "code",
   "execution_count": 6,
   "metadata": {},
   "outputs": [],
   "source": [
    "# Naming conventions\n",
    "# It should be descriptive, case sensitive\n",
    "\n",
    "#Valid varibles names\n",
    "\n",
    "first_name= \"Pranjal\"\n",
    "last_name = \"Singh\"\n",
    "\n",
    "#Invalid varibales name\n",
    "\n",
    "# @name=\"Pranjal\"\n",
    "# age$r=\"20\""
   ]
  },
  {
   "cell_type": "code",
   "execution_count": 7,
   "metadata": {},
   "outputs": [],
   "source": [
    "# Case Sensitivity\n",
    "name=\"Pranjal\"\n",
    "Name=\"Singh\""
   ]
  },
  {
   "cell_type": "code",
   "execution_count": 8,
   "metadata": {},
   "outputs": [
    {
     "name": "stdout",
     "output_type": "stream",
     "text": [
      "<class 'str'>\n",
      "<class 'int'>\n",
      "<class 'float'>\n",
      "<class 'bool'>\n"
     ]
    }
   ],
   "source": [
    "# Understanding variable types\n",
    "# It is dynamically typed, type of variable is determined at a run-time.\n",
    "age= 20\n",
    "name=\"Pranjal\"\n",
    "cgpa= 7.04\n",
    "is_student=True\n",
    "\n",
    "print(type(name))\n",
    "print(type(age))\n",
    "print(type(cgpa))\n",
    "print(type(is_student))"
   ]
  },
  {
   "cell_type": "code",
   "execution_count": 9,
   "metadata": {},
   "outputs": [
    {
     "name": "stdout",
     "output_type": "stream",
     "text": [
      "<class 'int'>\n",
      "20\n",
      "<class 'str'>\n"
     ]
    }
   ],
   "source": [
    "# Type conversions\n",
    "age=20\n",
    "print(type(age))\n",
    "\n",
    "age_str=str(age)\n",
    "print(age_str)\n",
    "print(type(age_str))\n"
   ]
  },
  {
   "cell_type": "code",
   "execution_count": 10,
   "metadata": {},
   "outputs": [
    {
     "data": {
      "text/plain": [
       "float"
      ]
     },
     "execution_count": 10,
     "metadata": {},
     "output_type": "execute_result"
    }
   ],
   "source": [
    "height=6.2\n",
    "type(height)\n"
   ]
  },
  {
   "cell_type": "code",
   "execution_count": 11,
   "metadata": {},
   "outputs": [
    {
     "name": "stdout",
     "output_type": "stream",
     "text": [
      "10 <class 'int'>\n",
      "Pranjal <class 'str'>\n",
      "3.14 <class 'float'>\n"
     ]
    }
   ],
   "source": [
    "# Dynamic typing\n",
    "# It allows the type of a varibale to change as the program executes.\n",
    "\n",
    "var=10\n",
    "print(var, type(var))\n",
    "\n",
    "var=\"Pranjal\"\n",
    "print(var, type(var))\n",
    "\n",
    "var=3.14\n",
    "print(var, type(var))\n"
   ]
  },
  {
   "cell_type": "code",
   "execution_count": 12,
   "metadata": {},
   "outputs": [
    {
     "name": "stdout",
     "output_type": "stream",
     "text": [
      "20 <class 'int'>\n"
     ]
    }
   ],
   "source": [
    "# How to take input form user\n",
    "age = int(input(\"Enter your age\"))\n",
    "print(age, type(age))\n"
   ]
  },
  {
   "cell_type": "code",
   "execution_count": 13,
   "metadata": {},
   "outputs": [
    {
     "name": "stdout",
     "output_type": "stream",
     "text": [
      "Sum: 14.0\n",
      "Substract: 2.0\n",
      "Multiplication: 48.0\n",
      "Division: 1.3333333333333333\n"
     ]
    }
   ],
   "source": [
    "### Simple Calculator\n",
    "\n",
    "num1= float(input(\"Enter first number:\"))\n",
    "num2= float(input(\"Enter second number:\"))\n",
    "\n",
    "sum=num1+num2\n",
    "sub=num1-num2\n",
    "mul=num1*num2\n",
    "div=num1/num2\n",
    "\n",
    "print(\"Sum:\", sum)\n",
    "print(\"Substract:\", sub)\n",
    "print(\"Multiplication:\", mul)\n",
    "print(\"Division:\",div)"
   ]
  }
 ],
 "metadata": {
  "kernelspec": {
   "display_name": "Python 3",
   "language": "python",
   "name": "python3"
  },
  "language_info": {
   "codemirror_mode": {
    "name": "ipython",
    "version": 3
   },
   "file_extension": ".py",
   "mimetype": "text/x-python",
   "name": "python",
   "nbconvert_exporter": "python",
   "pygments_lexer": "ipython3",
   "version": "3.10.15"
  }
 },
 "nbformat": 4,
 "nbformat_minor": 2
}
