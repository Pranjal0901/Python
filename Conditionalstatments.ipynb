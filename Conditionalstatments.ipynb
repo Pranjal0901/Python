{
 "cells": [
  {
   "cell_type": "code",
   "execution_count": 2,
   "metadata": {},
   "outputs": [
    {
     "name": "stdout",
     "output_type": "stream",
     "text": [
      "You are eligible for voting\n"
     ]
    }
   ],
   "source": [
    "# If statement\n",
    "age =20\n",
    "if age >=20:\n",
    "    print(\"You are eligible for voting\")"
   ]
  },
  {
   "cell_type": "code",
   "execution_count": 3,
   "metadata": {},
   "outputs": [
    {
     "data": {
      "text/plain": [
       "True"
      ]
     },
     "execution_count": 3,
     "metadata": {},
     "output_type": "execute_result"
    }
   ],
   "source": [
    "age>=18"
   ]
  },
  {
   "cell_type": "code",
   "execution_count": 5,
   "metadata": {},
   "outputs": [
    {
     "name": "stdout",
     "output_type": "stream",
     "text": [
      "You are not eligble for voting\n"
     ]
    }
   ],
   "source": [
    "# else statement\n",
    "# It executes a block of code if the condition in the if statemnet is false.\n",
    "\n",
    "age=15\n",
    "if age>=18:\n",
    "    print(\"Your are eligible for voting\")\n",
    "else: \n",
    "    print(\"You are not eligble for voting\")"
   ]
  },
  {
   "cell_type": "code",
   "execution_count": 7,
   "metadata": {},
   "outputs": [
    {
     "name": "stdout",
     "output_type": "stream",
     "text": [
      "You are an adult\n"
     ]
    }
   ],
   "source": [
    "# Elif statement\n",
    "# The elif statement allows you to check multiple conditions. It stands for \"else if\"\n",
    "\n",
    "age =20\n",
    "\n",
    "if age<20:\n",
    "    print(\"You are a child.\")\n",
    "elif age<18:\n",
    "    print(\"You are a teenager.\")\n",
    "else:\n",
    "    print(\"You are an adult\")"
   ]
  },
  {
   "cell_type": "code",
   "execution_count": 8,
   "metadata": {},
   "outputs": [
    {
     "name": "stdout",
     "output_type": "stream",
     "text": [
      "The number is positive\n",
      "Number is odd\n"
     ]
    }
   ],
   "source": [
    "# Nested Conditional statements\n",
    "# You can place one or more conditional statements\n",
    "num = int(input(\"Enter the number\"))\n",
    "if num>0:\n",
    "    print(\"The number is positive\")\n",
    "    if num%2==0:\n",
    "        print(\"Number is even\")\n",
    "    else:\n",
    "        print(\"Number is odd\")\n",
    "else:\n",
    "    print(\"Number is zero or negtive\")\n"
   ]
  },
  {
   "cell_type": "code",
   "execution_count": 1,
   "metadata": {},
   "outputs": [
    {
     "name": "stdout",
     "output_type": "stream",
     "text": [
      "2020 It is a leap year\n"
     ]
    }
   ],
   "source": [
    "#Practical example\n",
    "# Determine if a year is a leap year or not.\n",
    "\n",
    "year=int(input(\"Enter the year\"))\n",
    "\n",
    "if year%4==0:\n",
    "    if year%100==0:\n",
    "        if year%400==0:\n",
    "            print(year, \"It is a leap year\")\n",
    "        else:\n",
    "            print(year, \"It is not leap year\")\n",
    "    else:\n",
    "        print(year, \"It is a leap year\")\n",
    "else:\n",
    "    print(year, \"It is a not a leap year\")"
   ]
  },
  {
   "cell_type": "code",
   "execution_count": 3,
   "metadata": {},
   "outputs": [
    {
     "name": "stdout",
     "output_type": "stream",
     "text": [
      "Result: 6141.0\n"
     ]
    }
   ],
   "source": [
    "# Calculator\n",
    "\n",
    "n1=float(input(\"Enter First number:\"))\n",
    "n2=float(input(\"Enter Second number:\"))\n",
    "oper=input(\"Enter operation(+,-,*,/):\")\n",
    "\n",
    "if oper == '+':\n",
    "    res=n1+n2\n",
    "elif oper =='-':\n",
    "    res= n1-n2\n",
    "elif oper == '*':\n",
    "    res=n1*n2\n",
    "elif oper=='/':\n",
    "    if n2 !=0:\n",
    "        res=n1/n2\n",
    "    else:\n",
    "        res=\"Error! Division by zero\"\n",
    "else:\n",
    "    print(\"Invalid operation\")\n",
    "print(\"Result:\",res)"
   ]
  }
 ],
 "metadata": {
  "kernelspec": {
   "display_name": "Python 3",
   "language": "python",
   "name": "python3"
  },
  "language_info": {
   "codemirror_mode": {
    "name": "ipython",
    "version": 3
   },
   "file_extension": ".py",
   "mimetype": "text/x-python",
   "name": "python",
   "nbconvert_exporter": "python",
   "pygments_lexer": "ipython3",
   "version": "3.10.15"
  }
 },
 "nbformat": 4,
 "nbformat_minor": 2
}
