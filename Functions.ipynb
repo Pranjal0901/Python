{
 "cells": [
  {
   "cell_type": "markdown",
   "metadata": {},
   "source": [
    "## Functions"
   ]
  },
  {
   "cell_type": "code",
   "execution_count": 1,
   "metadata": {},
   "outputs": [],
   "source": [
    "# Syntax\n",
    "def function_name(parameters):\n",
    "    \"\"\"Docstring\"\"\"\n",
    "    #Function Body\n",
    "    return expression"
   ]
  },
  {
   "cell_type": "code",
   "execution_count": 2,
   "metadata": {},
   "outputs": [
    {
     "name": "stdout",
     "output_type": "stream",
     "text": [
      "The number is odd\n"
     ]
    }
   ],
   "source": [
    "def even_odd(a):\n",
    "    if a%2==0:\n",
    "        print(\"The number is even\")\n",
    "    else:\n",
    "        print(\"The number is odd\")\n",
    "\n",
    "even_odd(55)"
   ]
  },
  {
   "cell_type": "code",
   "execution_count": 3,
   "metadata": {},
   "outputs": [
    {
     "name": "stdout",
     "output_type": "stream",
     "text": [
      "The sum of two number is: 112\n"
     ]
    }
   ],
   "source": [
    "# Function with multipple parameters\n",
    "\n",
    "def add(a,b):\n",
    "    c=a+b\n",
    "    print(\"The sum of two number is:\",c)\n",
    "\n",
    "add(45,67)"
   ]
  },
  {
   "cell_type": "code",
   "execution_count": 4,
   "metadata": {},
   "outputs": [
    {
     "data": {
      "text/plain": [
       "169"
      ]
     },
     "execution_count": 4,
     "metadata": {},
     "output_type": "execute_result"
    }
   ],
   "source": [
    "# We directly use return \n",
    "def add(a,b,c):\n",
    "    return a+b+c\n",
    "\n",
    "add(34,56,79)"
   ]
  },
  {
   "cell_type": "code",
   "execution_count": 5,
   "metadata": {},
   "outputs": [
    {
     "name": "stdout",
     "output_type": "stream",
     "text": [
      "Hello Pranjal\n"
     ]
    }
   ],
   "source": [
    "# Default parameters\n",
    "\n",
    "def greet(name):\n",
    "    print(f\"Hello {name}\")\n",
    "\n",
    "greet(\"Pranjal\")\n"
   ]
  },
  {
   "cell_type": "code",
   "execution_count": 6,
   "metadata": {},
   "outputs": [
    {
     "name": "stdout",
     "output_type": "stream",
     "text": [
      "1\n",
      "34\n",
      "46\n",
      "23\n",
      "23\n",
      "3\n",
      "Pranjal\n",
      "3.14\n"
     ]
    }
   ],
   "source": [
    "#Variable Length Arguments\n",
    "# Positional And keywords arguments\n",
    "\n",
    "def pos_args(*pranjal): # *pranjal is referring to all the parameters passed in print statement.\n",
    "    for num in pranjal:\n",
    "        print(num)\n",
    "\n",
    "pos_args(1,34,46,23,23,3,\"Pranjal\",3.14)"
   ]
  },
  {
   "cell_type": "code",
   "execution_count": 7,
   "metadata": {},
   "outputs": [
    {
     "name": "stdout",
     "output_type": "stream",
     "text": [
      "Name:Pranjal\n",
      "Age:19\n",
      "Nationality:Indian\n"
     ]
    }
   ],
   "source": [
    "# keyword argument\n",
    "\n",
    "def key__args(**kwpranjal):\n",
    "    for key,value in kwpranjal.items():\n",
    "        print(f\"{key}:{value}\")\n",
    "\n",
    "key__args(Name=\"Pranjal\", Age=\"19\", Nationality=\"Indian\")\n"
   ]
  },
  {
   "cell_type": "code",
   "execution_count": 8,
   "metadata": {},
   "outputs": [
    {
     "name": "stdout",
     "output_type": "stream",
     "text": [
      "1\n",
      "34\n",
      "46\n",
      "23\n",
      "23\n",
      "3\n",
      "Pranjal\n",
      "3.14\n",
      "Name:Pranjal\n",
      "Age:19\n",
      "Nationality:Indian\n"
     ]
    }
   ],
   "source": [
    "# Combining both of them\n",
    "\n",
    "def both_keyargs(*args,**kwargs):\n",
    "    for num in args:\n",
    "        print(num)\n",
    "    for key,value in kwargs.items():\n",
    "        print(f\"{key}:{value}\")\n",
    "\n",
    "both_keyargs(1,34,46,23,23,3,\"Pranjal\",3.14,Name=\"Pranjal\", Age=\"19\", Nationality=\"Indian\")\n"
   ]
  },
  {
   "cell_type": "code",
   "execution_count": 9,
   "metadata": {},
   "outputs": [
    {
     "data": {
      "text/plain": [
       "3354"
      ]
     },
     "execution_count": 9,
     "metadata": {},
     "output_type": "execute_result"
    }
   ],
   "source": [
    "def multiply(a,b):\n",
    "    return a*b\n",
    "multiply(78,43)"
   ]
  },
  {
   "cell_type": "markdown",
   "metadata": {},
   "source": [
    "## Example"
   ]
  },
  {
   "cell_type": "markdown",
   "metadata": {},
   "source": [
    "EX-1 Temprature Conversion"
   ]
  },
  {
   "cell_type": "code",
   "execution_count": 10,
   "metadata": {},
   "outputs": [
    {
     "data": {
      "text/plain": [
       "23.88888888888889"
      ]
     },
     "execution_count": 10,
     "metadata": {},
     "output_type": "execute_result"
    }
   ],
   "source": [
    "def temperature(temp,unit):\n",
    "    if unit=='C':\n",
    "        return temp*9/5 + 32\n",
    "    elif unit=='F':\n",
    "        return (temp-32)*5/9\n",
    "    else:\n",
    "        return None\n",
    "    \n",
    "temperature(75,'F')"
   ]
  },
  {
   "cell_type": "markdown",
   "metadata": {},
   "source": [
    "EX-2 Password Strength Checker"
   ]
  },
  {
   "cell_type": "code",
   "execution_count": 16,
   "metadata": {},
   "outputs": [
    {
     "name": "stdout",
     "output_type": "stream",
     "text": [
      "True\n",
      "False\n"
     ]
    }
   ],
   "source": [
    "def is_strong_pass(password):\n",
    "    if len(password)<8:\n",
    "        return False\n",
    "    if not any(char.isdigit() for char in password):\n",
    "        return False\n",
    "    if not any(char.islower() for char in password):\n",
    "        return False\n",
    "    if not any(char.isupper() for char in password):\n",
    "        return False\n",
    "    if not any(char in '!@#$%^&*()_+~' for char in password):\n",
    "        return False\n",
    "    return True\n",
    "\n",
    "# Calling the Fucntion\n",
    "print(is_strong_pass(\"Pranjal09@\"))\n",
    "print(is_strong_pass(\"Deempk32\"))"
   ]
  },
  {
   "cell_type": "markdown",
   "metadata": {},
   "source": [
    "EX-3 Calculate total cost of shop items"
   ]
  },
  {
   "cell_type": "code",
   "execution_count": 21,
   "metadata": {},
   "outputs": [],
   "source": [
    "def calc_total_cost(cart):\n",
    "    pass\n",
    "\n",
    "cart=[\n",
    "    {'name':'Apple','price':20,'quantity': 4},\n",
    "    {'name':'Banana','price':60,'quantity': 12},\n",
    "    {'name':'Orange','price':90,'quantity': 20},\n",
    "    {'name':'Cherry','price':250,'quantity': 50}\n",
    "]"
   ]
  }
 ],
 "metadata": {
  "kernelspec": {
   "display_name": "venv",
   "language": "python",
   "name": "python3"
  },
  "language_info": {
   "codemirror_mode": {
    "name": "ipython",
    "version": 3
   },
   "file_extension": ".py",
   "mimetype": "text/x-python",
   "name": "python",
   "nbconvert_exporter": "python",
   "pygments_lexer": "ipython3",
   "version": "3.10.15"
  }
 },
 "nbformat": 4,
 "nbformat_minor": 2
}
