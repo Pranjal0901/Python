{
 "cells": [
  {
   "cell_type": "markdown",
   "metadata": {},
   "source": [
    "## Dictionary"
   ]
  },
  {
   "cell_type": "code",
   "execution_count": 1,
   "metadata": {},
   "outputs": [
    {
     "name": "stdout",
     "output_type": "stream",
     "text": [
      "{}\n",
      "<class 'dict'>\n"
     ]
    }
   ],
   "source": [
    "empty_dict={}\n",
    "print(empty_dict)\n",
    "print(type(empty_dict))"
   ]
  },
  {
   "cell_type": "code",
   "execution_count": 2,
   "metadata": {},
   "outputs": [
    {
     "data": {
      "text/plain": [
       "{}"
      ]
     },
     "execution_count": 2,
     "metadata": {},
     "output_type": "execute_result"
    }
   ],
   "source": [
    "empty_dict=dict()\n",
    "empty_dict"
   ]
  },
  {
   "cell_type": "code",
   "execution_count": 3,
   "metadata": {},
   "outputs": [
    {
     "name": "stdout",
     "output_type": "stream",
     "text": [
      "{'name': 'Pranjal', 'age': 19, 'Grade': 'A+'}\n",
      "<class 'dict'>\n"
     ]
    }
   ],
   "source": [
    "student={\"name\":\"Pranjal\",\"age\":19,\"Grade\":\"A+\"}\n",
    "print(student)\n",
    "print(type(student))"
   ]
  },
  {
   "cell_type": "code",
   "execution_count": 4,
   "metadata": {},
   "outputs": [
    {
     "name": "stdout",
     "output_type": "stream",
     "text": [
      "{'name': 'Pranjal', 'age': 19, 'Grade': 'A+'}\n",
      "A+\n"
     ]
    }
   ],
   "source": [
    "student={\"name\":\"Pranjal\",\"age\":19,\"Grade\":\"A+\"}\n",
    "print(student)\n",
    "#Accesssing Dict elements\n",
    "print(student[\"Grade\"])"
   ]
  },
  {
   "cell_type": "code",
   "execution_count": 5,
   "metadata": {},
   "outputs": [
    {
     "name": "stdout",
     "output_type": "stream",
     "text": [
      "A+\n",
      "Pranjal\n",
      "None\n"
     ]
    }
   ],
   "source": [
    "#Accessing through get method\n",
    "print(student.get('Grade'))\n",
    "print(student.get('name'))\n",
    "print(student.get('last_name'))\n"
   ]
  },
  {
   "cell_type": "code",
   "execution_count": 6,
   "metadata": {},
   "outputs": [
    {
     "name": "stdout",
     "output_type": "stream",
     "text": [
      "{'name': 'Pranjal', 'age': 19, 'Grade': 'A+'}\n"
     ]
    }
   ],
   "source": [
    "# Modifying Dic elements\n",
    "# They are mutable, so u can add and remove or update elements.\n",
    "print(student)"
   ]
  },
  {
   "cell_type": "code",
   "execution_count": 7,
   "metadata": {},
   "outputs": [
    {
     "name": "stdout",
     "output_type": "stream",
     "text": [
      "{'name': 'Pranjal', 'age': 20, 'Grade': 'A+'}\n",
      "{'name': 'Pranjal', 'age': 20, 'Grade': 'A+', 'address': 'India'}\n"
     ]
    }
   ],
   "source": [
    "student[\"age\"]=20           # update value for the key\n",
    "print(student)\n",
    "student[\"address\"]=\"India\"  # Add a new key and value\n",
    "print(student)"
   ]
  },
  {
   "cell_type": "code",
   "execution_count": 8,
   "metadata": {},
   "outputs": [
    {
     "name": "stdout",
     "output_type": "stream",
     "text": [
      "{'name': 'Pranjal', 'age': 20, 'address': 'India'}\n"
     ]
    }
   ],
   "source": [
    "del student[\"Grade\"]\n",
    "print(student)"
   ]
  },
  {
   "cell_type": "code",
   "execution_count": 9,
   "metadata": {},
   "outputs": [
    {
     "name": "stdout",
     "output_type": "stream",
     "text": [
      "dict_keys(['name', 'age', 'address'])\n",
      "dict_values(['Pranjal', 20, 'India'])\n"
     ]
    }
   ],
   "source": [
    "keys=student.keys()\n",
    "values=student.values()\n",
    "print(keys)\n",
    "print(values)"
   ]
  },
  {
   "cell_type": "code",
   "execution_count": 10,
   "metadata": {},
   "outputs": [
    {
     "name": "stdout",
     "output_type": "stream",
     "text": [
      "dict_items([('name', 'Pranjal'), ('age', 20), ('address', 'India')])\n"
     ]
    }
   ],
   "source": [
    "items=student.items()\n",
    "print(items)"
   ]
  },
  {
   "cell_type": "code",
   "execution_count": 11,
   "metadata": {},
   "outputs": [
    {
     "name": "stdout",
     "output_type": "stream",
     "text": [
      "{'name': 'Pranjal', 'age': 20, 'address': 'India'}\n"
     ]
    }
   ],
   "source": [
    "## Shallow copy\n",
    "student_copy=student\n",
    "print(student_copy)"
   ]
  },
  {
   "cell_type": "code",
   "execution_count": 12,
   "metadata": {},
   "outputs": [
    {
     "name": "stdout",
     "output_type": "stream",
     "text": [
      "{'name': 'Pranjal2', 'age': 20, 'address': 'India'}\n",
      "{'name': 'Pranjal2', 'age': 20, 'address': 'India'}\n"
     ]
    }
   ],
   "source": [
    "student[\"name\"]=\"Pranjal2\"\n",
    "print(student)\n",
    "print(student_copy)\n",
    "\n"
   ]
  },
  {
   "cell_type": "code",
   "execution_count": 14,
   "metadata": {},
   "outputs": [
    {
     "name": "stdout",
     "output_type": "stream",
     "text": [
      "{'name': 'Pranjal2', 'age': 20, 'address': 'India'}\n",
      "{'name': 'Pranjal2', 'age': 20, 'address': 'India'}\n"
     ]
    }
   ],
   "source": [
    "student_copy1=student.copy()\n",
    "print(student_copy1)\n",
    "print(student)"
   ]
  },
  {
   "cell_type": "code",
   "execution_count": 15,
   "metadata": {},
   "outputs": [
    {
     "name": "stdout",
     "output_type": "stream",
     "text": [
      "{'name': 'Pranjal2', 'age': 20, 'address': 'India'}\n",
      "{'name': 'Pranjal', 'age': 20, 'address': 'India'}\n"
     ]
    }
   ],
   "source": [
    "student['name']=\"Pranjal\"\n",
    "print(student_copy1)\n",
    "print(student)"
   ]
  },
  {
   "cell_type": "code",
   "execution_count": 16,
   "metadata": {},
   "outputs": [
    {
     "name": "stdout",
     "output_type": "stream",
     "text": [
      "name\n",
      "age\n",
      "address\n"
     ]
    }
   ],
   "source": [
    "# Iterating over dictionaries\n",
    "for keys in student.keys():\n",
    "    print(keys)"
   ]
  },
  {
   "cell_type": "code",
   "execution_count": 17,
   "metadata": {},
   "outputs": [
    {
     "name": "stdout",
     "output_type": "stream",
     "text": [
      "Pranjal\n",
      "20\n",
      "India\n"
     ]
    }
   ],
   "source": [
    "# Iterate over values\n",
    "for values in student.values():\n",
    "    print(values)"
   ]
  },
  {
   "cell_type": "code",
   "execution_count": 20,
   "metadata": {},
   "outputs": [
    {
     "name": "stdout",
     "output_type": "stream",
     "text": [
      "name:Pranjal\n",
      "age:20\n",
      "address:India\n"
     ]
    }
   ],
   "source": [
    "for key,value in student.items():\n",
    "    print(f\"{key}:{value}\")"
   ]
  },
  {
   "cell_type": "code",
   "execution_count": 21,
   "metadata": {},
   "outputs": [
    {
     "name": "stdout",
     "output_type": "stream",
     "text": [
      "{'student1': {'name': 'Pranjal', 'age': 19}, 'student2': {'name': 'Nitika', 'age': 20}}\n"
     ]
    }
   ],
   "source": [
    "# Nested Dict\n",
    "student={\n",
    "    \"student1\":{\"name\":\"Pranjal\",\"age\":19},\n",
    "    \"student2\":{\"name\":\"Nitika\",\"age\":20}\n",
    "}\n",
    "print(student)"
   ]
  },
  {
   "cell_type": "code",
   "execution_count": 22,
   "metadata": {},
   "outputs": [
    {
     "name": "stdout",
     "output_type": "stream",
     "text": [
      "Nitika\n",
      "Pranjal\n"
     ]
    }
   ],
   "source": [
    "# Access nested dicitonary\n",
    "print(student[\"student2\"][\"name\"])\n",
    "print(student[\"student1\"][\"name\"])"
   ]
  },
  {
   "cell_type": "code",
   "execution_count": 24,
   "metadata": {},
   "outputs": [
    {
     "name": "stdout",
     "output_type": "stream",
     "text": [
      "{'a': 1, 'b': 3, 'c': 4}\n"
     ]
    }
   ],
   "source": [
    "# Merge 2 Dict into one\n",
    "\n",
    "dict1={\"a\":1,\"b\":2}\n",
    "dict2={\"b\":3,\"c\":4}\n",
    "merged_dict={**dict1,**dict2}\n",
    "print(merged_dict)"
   ]
  }
 ],
 "metadata": {
  "kernelspec": {
   "display_name": "venv",
   "language": "python",
   "name": "python3"
  },
  "language_info": {
   "codemirror_mode": {
    "name": "ipython",
    "version": 3
   },
   "file_extension": ".py",
   "mimetype": "text/x-python",
   "name": "python",
   "nbconvert_exporter": "python",
   "pygments_lexer": "ipython3",
   "version": "3.10.15"
  }
 },
 "nbformat": 4,
 "nbformat_minor": 2
}
